{
 "cells": [
  {
   "cell_type": "code",
   "execution_count": 13,
   "metadata": {},
   "outputs": [],
   "source": [
    "import pandas as pd  #  type: ignore\n",
    "\n",
    "pd.set_option(\"display.notebook_repr_html\", False)\n"
   ]
  },
  {
   "cell_type": "code",
   "execution_count": 14,
   "metadata": {},
   "outputs": [
    {
     "data": {
      "text/plain": [
       "   driverId  truckId eventTime eventType  longitude  latitude   \n",
       "0        14       25   59:21.4    Normal     -94.58     37.03  \\\n",
       "1        18       16   59:21.7    Normal     -89.66     39.78   \n",
       "2        27      105   59:21.7    Normal     -90.21     38.65   \n",
       "3        11       74   59:21.7    Normal     -90.20     38.65   \n",
       "4        22       87   59:21.7    Normal     -90.04     35.19   \n",
       "\n",
       "                     eventKey  CorrelationId       driverName     routeId   \n",
       "0   14|25|9223370572464814373   3.660000e+18       Adis Cesir   160405074  \\\n",
       "1   18|16|9223370572464814089   3.660000e+18        Grant Liu  1565885487   \n",
       "2  27|105|9223370572464814070   3.660000e+18  Mark Lochbihler  1325562373   \n",
       "3   11|74|9223370572464814123   3.660000e+18   Jamie Engesser  1567254452   \n",
       "4   22|87|9223370572464814101   3.660000e+18    Nadeem Asghar  1198242881   \n",
       "\n",
       "                                routeName      eventDate  \n",
       "0           Joplin to Kansas City Route 2  2016-05-27-22  \n",
       "1           Springfield to KC Via Hanibal  2016-05-27-22  \n",
       "2  Springfield to KC Via Columbia Route 2  2016-05-27-22  \n",
       "3           Saint Louis to Memphis Route2  2016-05-27-22  \n",
       "4           Saint Louis to Chicago Route2  2016-05-27-22  "
      ]
     },
     "execution_count": 14,
     "metadata": {},
     "output_type": "execute_result"
    }
   ],
   "source": [
    "# Carga del archivo desde un repo en GitHub\n",
    "truck_events = pd.read_csv(\"../files/input/truck_event_text_partition.csv\")\n",
    "\n",
    "# Cabecera del archivo\n",
    "truck_events.head()\n"
   ]
  },
  {
   "cell_type": "code",
   "execution_count": 15,
   "metadata": {},
   "outputs": [
    {
     "data": {
      "text/plain": [
       "(17075, 12)"
      ]
     },
     "execution_count": 15,
     "metadata": {},
     "output_type": "execute_result"
    }
   ],
   "source": [
    "# Tamaño de la tabla\n",
    "truck_events.shape"
   ]
  },
  {
   "cell_type": "code",
   "execution_count": 18,
   "metadata": {},
   "outputs": [
    {
     "data": {
      "text/plain": [
       "       driverId  truckId eventTime eventType  longitude  latitude   \n",
       "0            14       25   59:21.4    Normal     -94.58     37.03  \\\n",
       "1            18       16   59:21.7    Normal     -89.66     39.78   \n",
       "2            27      105   59:21.7    Normal     -90.21     38.65   \n",
       "3            11       74   59:21.7    Normal     -90.20     38.65   \n",
       "4            22       87   59:21.7    Normal     -90.04     35.19   \n",
       "...         ...      ...       ...       ...        ...       ...   \n",
       "17070        11       27   12:23.1    Normal     -90.20     38.65   \n",
       "17071        16       46   12:24.0    Normal     -94.35     38.33   \n",
       "17072        18       49   12:23.7    Normal     -90.52     39.71   \n",
       "17073        10       39   12:23.8    Normal     -93.34     37.21   \n",
       "17074        19      100   12:24.0    Normal     -97.37     36.79   \n",
       "\n",
       "                         eventKey  CorrelationId         driverName   \n",
       "0       14|25|9223370572464814373   3.660000e+18         Adis Cesir  \\\n",
       "1       18|16|9223370572464814089   3.660000e+18          Grant Liu   \n",
       "2      27|105|9223370572464814070   3.660000e+18    Mark Lochbihler   \n",
       "3       11|74|9223370572464814123   3.660000e+18     Jamie Engesser   \n",
       "4       22|87|9223370572464814101   3.660000e+18      Nadeem Asghar   \n",
       "...                           ...            ...                ...   \n",
       "17070   11|27|9223370571956432681   1.000000e+03     Jamie Engesser   \n",
       "17071   16|46|9223370571956431821   1.000000e+03         Tom McCuch   \n",
       "17072   18|49|9223370571956432141   1.000000e+03          Grant Liu   \n",
       "17073   10|39|9223370571956431961   1.000000e+03  George Vetticaden   \n",
       "17074  19|100|9223370571956431810   1.000000e+03         Ajay Singh   \n",
       "\n",
       "          routeId                               routeName      eventDate  \n",
       "0       160405074           Joplin to Kansas City Route 2  2016-05-27-22  \n",
       "1      1565885487           Springfield to KC Via Hanibal  2016-05-27-22  \n",
       "2      1325562373  Springfield to KC Via Columbia Route 2  2016-05-27-22  \n",
       "3      1567254452           Saint Louis to Memphis Route2  2016-05-27-22  \n",
       "4      1198242881           Saint Louis to Chicago Route2  2016-05-27-22  \n",
       "...           ...                                     ...            ...  \n",
       "17070  1198242881           Saint Louis to Chicago Route2  2016-06-02-20  \n",
       "17071   160405074           Joplin to Kansas City Route 2  2016-06-02-20  \n",
       "17072  1565885487           Springfield to KC Via Hanibal  2016-06-02-20  \n",
       "17073  1390372503                    Saint Louis to Tulsa  2016-06-02-20  \n",
       "17074  1962261785              Wichita to Little Rock.kml  2016-06-02-20  \n",
       "\n",
       "[17075 rows x 12 columns]"
      ]
     },
     "execution_count": 18,
     "metadata": {},
     "output_type": "execute_result"
    }
   ],
   "source": [
    "# Obtención de un subconjunto de registros\n",
    "\n",
    "truck_events_subset = truck_events[0:10]\n",
    "truck_events\n"
   ]
  },
  {
   "cell_type": "code",
   "execution_count": 19,
   "metadata": {},
   "outputs": [
    {
     "data": {
      "text/plain": [
       "   driverId eventTime eventType\n",
       "0        14   59:21.4    Normal\n",
       "1        18   59:21.7    Normal\n",
       "2        27   59:21.7    Normal\n",
       "3        11   59:21.7    Normal\n",
       "4        22   59:21.7    Normal\n",
       "5        22   59:22.3    Normal\n",
       "6        23   59:22.4    Normal\n",
       "7        11   59:22.5    Normal\n",
       "8        20   59:22.5    Normal\n",
       "9        32   59:22.5    Normal"
      ]
     },
     "execution_count": 19,
     "metadata": {},
     "output_type": "execute_result"
    }
   ],
   "source": [
    "specific_columns = truck_events_subset[[\"driverId\", \"eventTime\", \"eventType\"]]\n",
    "specific_columns"
   ]
  },
  {
   "cell_type": "code",
   "execution_count": 20,
   "metadata": {},
   "outputs": [
    {
     "data": {
      "text/plain": [
       "    driverId eventTime eventType\n",
       "0         14   59:21.4    Normal\n",
       "1         18   59:21.7    Normal\n",
       "2         27   59:21.7    Normal\n",
       "3         11   59:21.7    Normal\n",
       "4         22   59:21.7    Normal\n",
       "5         22   59:22.3    Normal\n",
       "6         23   59:22.4    Normal\n",
       "7         11   59:22.5    Normal\n",
       "8         20   59:22.5    Normal\n",
       "9         32   59:22.5    Normal\n",
       "10        27   59:22.6    Normal"
      ]
     },
     "execution_count": 20,
     "metadata": {},
     "output_type": "execute_result"
    }
   ],
   "source": [
    "new_sub_set = truck_events.loc[0:10, [\"driverId\", \"eventTime\", \"eventType\"]]\n",
    "new_sub_set\n"
   ]
  },
  {
   "cell_type": "code",
   "execution_count": 21,
   "metadata": {},
   "outputs": [
    {
     "data": {
      "text/plain": [
       "driverId                                    18\n",
       "truckId                                     16\n",
       "eventTime                              59:21.7\n",
       "eventType                               Normal\n",
       "longitude                               -89.66\n",
       "latitude                                 39.78\n",
       "eventKey             18|16|9223370572464814089\n",
       "CorrelationId            3660000000000000000.0\n",
       "driverName                           Grant Liu\n",
       "routeId                             1565885487\n",
       "routeName        Springfield to KC Via Hanibal\n",
       "eventDate                        2016-05-27-22\n",
       "Name: 1, dtype: object"
      ]
     },
     "execution_count": 21,
     "metadata": {},
     "output_type": "execute_result"
    }
   ],
   "source": [
    "truck_events.iloc[1]"
   ]
  },
  {
   "cell_type": "code",
   "execution_count": 22,
   "metadata": {},
   "outputs": [
    {
     "data": {
      "text/plain": [
       "'Springfield to KC Via Hanibal'"
      ]
     },
     "execution_count": 22,
     "metadata": {},
     "output_type": "execute_result"
    }
   ],
   "source": [
    "truck_events.iloc[1][\"routeName\"]\n"
   ]
  },
  {
   "cell_type": "code",
   "execution_count": 23,
   "metadata": {},
   "outputs": [],
   "source": [
    "# Escritura de la tabla en el disco\n",
    "import os\n",
    "\n",
    "if not os.path.exists(\"../files/output/\"):\n",
    "    os.makedirs(\"../files/output/\")\n",
    "\n",
    "specific_columns.to_csv(\n",
    "    \"../files/output/specific-columns.csv\",\n",
    "    sep=\",\",\n",
    "    header=True,\n",
    "    index=False,\n",
    ")"
   ]
  },
  {
   "cell_type": "code",
   "execution_count": null,
   "metadata": {},
   "outputs": [],
   "source": []
  }
 ],
 "metadata": {
  "kernelspec": {
   "display_name": "Python 3",
   "language": "python",
   "name": "python3"
  },
  "language_info": {
   "codemirror_mode": {
    "name": "ipython",
    "version": 3
   },
   "file_extension": ".py",
   "mimetype": "text/x-python",
   "name": "python",
   "nbconvert_exporter": "python",
   "pygments_lexer": "ipython3",
   "version": "3.10.2"
  }
 },
 "nbformat": 4,
 "nbformat_minor": 2
}
